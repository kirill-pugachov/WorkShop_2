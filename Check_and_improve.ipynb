{
 "cells": [
  {
   "cell_type": "markdown",
   "metadata": {},
   "source": [
    "## SVM Checker"
   ]
  },
  {
   "cell_type": "code",
   "execution_count": 1,
   "metadata": {},
   "outputs": [],
   "source": [
    "%matplotlib inline\n",
    "import svm\n",
    "import numpy as np\n",
    "import matplotlib.pyplot as plt\n",
    "import matplotlib.cm as cm\n",
    "import itertools\n",
    "\n",
    "\n",
    "\n",
    "\n",
    "def example(num_samples=10, num_features=2, grid_size=20):\n",
    "    \n",
    "    samples = np.matrix(np.random.normal(size=num_samples * num_features)\n",
    "                        .reshape(num_samples, num_features))\n",
    "    \n",
    "    labels = 2 * (samples.sum(axis=1) > 0) - 1.0\n",
    "    \n",
    "    trainer = svm.SVMTrainer(svm.Kernel.linear())\n",
    "    \n",
    "    predictor = trainer.train(samples, labels)\n",
    "\n",
    "    plot(predictor, samples, labels, grid_size)\n",
    "\n",
    "\n",
    "def plot(predictor, X, y, grid_size):\n",
    "    \n",
    "    x_min, x_max = X[:, 0].min() - 1, X[:, 0].max() + 1\n",
    "    y_min, y_max = X[:, 1].min() - 1, X[:, 1].max() + 1\n",
    "    \n",
    "    xx, yy = np.meshgrid(\n",
    "        np.linspace(x_min, x_max, grid_size),\n",
    "        np.linspace(y_min, y_max, grid_size),\n",
    "        indexing='ij'\n",
    "    )\n",
    "    \n",
    "    flatten = lambda m: np.array(m).reshape(-1,)\n",
    "\n",
    "    result = []\n",
    "    \n",
    "    for (i, j) in itertools.product(range(grid_size), range(grid_size)):\n",
    "        point = np.array([xx[i, j], yy[i, j]]).reshape(1, 2)\n",
    "        result.append(predictor.predict(point))\n",
    "\n",
    "    Z = np.array(result).reshape(xx.shape)\n",
    "    \n",
    "    plt.contourf(\n",
    "        xx, yy, Z,\n",
    "        cmap=cm.Paired,\n",
    "        levels=[-0.01, 0.01],\n",
    "        extend='both',\n",
    "        alpha=0.8\n",
    "    )\n",
    "    \n",
    "    \n",
    "    plt.scatter(\n",
    "        flatten(X[:, 0]),\n",
    "        flatten(X[:, 1]),\n",
    "        c=flatten(y),\n",
    "        cmap=cm.Paired\n",
    "    )\n",
    "    \n",
    "    plt.xlim(x_min, x_max)\n",
    "    plt.ylim(y_min, y_max)"
   ]
  },
  {
   "cell_type": "code",
   "execution_count": 4,
   "metadata": {},
   "outputs": [
    {
     "name": "stdout",
     "output_type": "stream",
     "text": [
      "[[ 0.65092119  1.17513948]\n",
      " [ 0.53482843 -1.24905008]\n",
      " [-0.7477241   0.43993012]\n",
      " [ 0.26018044 -0.52139215]\n",
      " [ 0.23334805 -1.01381702]\n",
      " [-1.58812652 -0.57118419]\n",
      " [ 0.72490833  0.10240645]\n",
      " [ 0.06538887  1.06311516]\n",
      " [ 1.66201061 -1.37114169]\n",
      " [ 0.32707609 -0.04145495]\n",
      " [-0.11156571  1.36000672]\n",
      " [ 0.02492252 -1.56314499]\n",
      " [ 0.25539388 -0.56576923]\n",
      " [ 1.114433    0.46949729]\n",
      " [-0.37656433  0.32159702]\n",
      " [ 0.68637406 -1.12000835]\n",
      " [ 0.8667359  -0.06839356]\n",
      " [-0.10928765  0.91351909]\n",
      " [ 0.22295904  0.87049024]\n",
      " [ 1.4768017  -0.25613788]]\n",
      "     pcost       dcost       gap    pres   dres\n",
      " 0: -6.3750e+00 -1.3515e+01  6e+01  8e+00  2e+00\n",
      " 1: -9.9806e+00 -1.5507e+01  3e+01  3e+00  7e-01\n",
      " 2: -2.0495e+01 -2.2595e+01  2e+01  1e+00  3e-01\n",
      " 3: -1.6994e+01 -1.7499e+01  2e+00  2e-01  4e-02\n",
      " 4: -1.6855e+01 -1.7159e+01  5e-01  1e-02  3e-03\n",
      " 5: -1.7033e+01 -1.7036e+01  5e-03  1e-04  4e-05\n",
      " 6: -1.7035e+01 -1.7035e+01  5e-05  1e-06  4e-07\n",
      " 7: -1.7035e+01 -1.7035e+01  5e-07  1e-08  4e-09\n",
      "Optimal solution found.\n"
     ]
    },
    {
     "data": {
      "image/png": "[encoded data removed]",
      "text/plain": [
       "<matplotlib.figure.Figure at 0x55c3330>"
      ]
     },
     "metadata": {},
     "output_type": "display_data"
    }
   ],
   "source": [
    "example(20, 2, 30)"
   ]
  },
  {
   "cell_type": "code",
   "execution_count": null,
   "metadata": {
    "collapsed": true
   },
   "outputs": [],
   "source": []
  }
 ],
 "metadata": {
  "anaconda-cloud": {},
  "kernelspec": {
   "display_name": "Python [conda root]",
   "language": "python",
   "name": "conda-root-py"
  },
  "language_info": {
   "codemirror_mode": {
    "name": "ipython",
    "version": 3
   },
   "file_extension": ".py",
   "mimetype": "text/x-python",
   "name": "python",
   "nbconvert_exporter": "python",
   "pygments_lexer": "ipython3",
   "version": "3.5.4"
  }
 },
 "nbformat": 4,
 "nbformat_minor": 2
}
